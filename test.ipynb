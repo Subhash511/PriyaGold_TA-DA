{
 "cells": [
  {
   "cell_type": "code",
   "execution_count": 1,
   "id": "a4847852",
   "metadata": {},
   "outputs": [],
   "source": [
    "import pandas as pd\n",
    "import json"
   ]
  },
  {
   "cell_type": "code",
   "execution_count": 2,
   "id": "fda4de59",
   "metadata": {},
   "outputs": [],
   "source": [
    "df = pd.read_excel('data/DATA.xlsx',sheet_name='user')"
   ]
  },
  {
   "cell_type": "code",
   "execution_count": 3,
   "id": "f8538f45",
   "metadata": {},
   "outputs": [
    {
     "data": {
      "text/plain": [
       "User                0\n",
       "State               0\n",
       "ID                  0\n",
       "Name                0\n",
       "HQ                  0\n",
       "User Designation    0\n",
       "Mobile              0\n",
       "Password            0\n",
       "dtype: int64"
      ]
     },
     "execution_count": 3,
     "metadata": {},
     "output_type": "execute_result"
    }
   ],
   "source": [
    "df.isnull().sum()"
   ]
  },
  {
   "cell_type": "code",
   "execution_count": 4,
   "id": "c92482ea",
   "metadata": {},
   "outputs": [
    {
     "data": {
      "text/plain": [
       "Index(['User', 'State', 'ID', 'Name', 'HQ', 'User Designation', 'Mobile',\n",
       "       'Password'],\n",
       "      dtype='object')"
      ]
     },
     "execution_count": 4,
     "metadata": {},
     "output_type": "execute_result"
    }
   ],
   "source": [
    "df.columns"
   ]
  },
  {
   "cell_type": "code",
   "execution_count": 5,
   "id": "d8ebc0d1",
   "metadata": {},
   "outputs": [],
   "source": [
    "df = df[['State','User Designation','HQ','User','Password']]"
   ]
  },
  {
   "cell_type": "code",
   "execution_count": 6,
   "id": "1c7d5aa3",
   "metadata": {},
   "outputs": [],
   "source": [
    "df.sort_values(by=['State','User Designation','HQ','User'],inplace=True)"
   ]
  },
  {
   "cell_type": "code",
   "execution_count": 7,
   "id": "67a1749d",
   "metadata": {},
   "outputs": [
    {
     "data": {
      "text/html": [
       "<div>\n",
       "<style scoped>\n",
       "    .dataframe tbody tr th:only-of-type {\n",
       "        vertical-align: middle;\n",
       "    }\n",
       "\n",
       "    .dataframe tbody tr th {\n",
       "        vertical-align: top;\n",
       "    }\n",
       "\n",
       "    .dataframe thead th {\n",
       "        text-align: right;\n",
       "    }\n",
       "</style>\n",
       "<table border=\"1\" class=\"dataframe\">\n",
       "  <thead>\n",
       "    <tr style=\"text-align: right;\">\n",
       "      <th></th>\n",
       "      <th>State</th>\n",
       "      <th>User Designation</th>\n",
       "      <th>HQ</th>\n",
       "      <th>User</th>\n",
       "      <th>Password</th>\n",
       "    </tr>\n",
       "  </thead>\n",
       "  <tbody>\n",
       "    <tr>\n",
       "      <th>32</th>\n",
       "      <td>Gujarat</td>\n",
       "      <td>ASM</td>\n",
       "      <td>Bhuj</td>\n",
       "      <td>Sahil Mansuri|PGGJ1005</td>\n",
       "      <td>5896</td>\n",
       "    </tr>\n",
       "    <tr>\n",
       "      <th>24</th>\n",
       "      <td>Gujarat</td>\n",
       "      <td>ASM</td>\n",
       "      <td>Rajkot</td>\n",
       "      <td>Hitesh Thakkar|PGGJ1004</td>\n",
       "      <td>9493</td>\n",
       "    </tr>\n",
       "    <tr>\n",
       "      <th>54</th>\n",
       "      <td>Gujarat</td>\n",
       "      <td>ASM</td>\n",
       "      <td>Rajkot</td>\n",
       "      <td>Vinesh Trivedi|PGGJ1006</td>\n",
       "      <td>7460</td>\n",
       "    </tr>\n",
       "    <tr>\n",
       "      <th>17</th>\n",
       "      <td>Gujarat</td>\n",
       "      <td>ASM</td>\n",
       "      <td>Vadodara</td>\n",
       "      <td>Girwat Sing Raj|PGGJ1003</td>\n",
       "      <td>4330</td>\n",
       "    </tr>\n",
       "    <tr>\n",
       "      <th>25</th>\n",
       "      <td>Gujarat</td>\n",
       "      <td>SO</td>\n",
       "      <td>Bhavnagar(Mahuwa)</td>\n",
       "      <td>Kalpesh Joshi|PGGJ1007</td>\n",
       "      <td>7947</td>\n",
       "    </tr>\n",
       "  </tbody>\n",
       "</table>\n",
       "</div>"
      ],
      "text/plain": [
       "      State User Designation                 HQ                      User  \\\n",
       "32  Gujarat              ASM               Bhuj    Sahil Mansuri|PGGJ1005   \n",
       "24  Gujarat              ASM             Rajkot   Hitesh Thakkar|PGGJ1004   \n",
       "54  Gujarat              ASM             Rajkot   Vinesh Trivedi|PGGJ1006   \n",
       "17  Gujarat              ASM           Vadodara  Girwat Sing Raj|PGGJ1003   \n",
       "25  Gujarat               SO  Bhavnagar(Mahuwa)    Kalpesh Joshi|PGGJ1007   \n",
       "\n",
       "    Password  \n",
       "32      5896  \n",
       "24      9493  \n",
       "54      7460  \n",
       "17      4330  \n",
       "25      7947  "
      ]
     },
     "execution_count": 7,
     "metadata": {},
     "output_type": "execute_result"
    }
   ],
   "source": [
    "df.head(5)"
   ]
  },
  {
   "cell_type": "code",
   "execution_count": 8,
   "id": "7c78d5d8",
   "metadata": {},
   "outputs": [],
   "source": [
    "df1 = df[['State','User Designation','HQ','User','Password']]"
   ]
  },
  {
   "cell_type": "code",
   "execution_count": 9,
   "id": "f2618434",
   "metadata": {},
   "outputs": [
    {
     "data": {
      "text/html": [
       "<div>\n",
       "<style scoped>\n",
       "    .dataframe tbody tr th:only-of-type {\n",
       "        vertical-align: middle;\n",
       "    }\n",
       "\n",
       "    .dataframe tbody tr th {\n",
       "        vertical-align: top;\n",
       "    }\n",
       "\n",
       "    .dataframe thead th {\n",
       "        text-align: right;\n",
       "    }\n",
       "</style>\n",
       "<table border=\"1\" class=\"dataframe\">\n",
       "  <thead>\n",
       "    <tr style=\"text-align: right;\">\n",
       "      <th></th>\n",
       "      <th>State</th>\n",
       "      <th>User Designation</th>\n",
       "      <th>HQ</th>\n",
       "      <th>User</th>\n",
       "      <th>Password</th>\n",
       "    </tr>\n",
       "  </thead>\n",
       "  <tbody>\n",
       "    <tr>\n",
       "      <th>32</th>\n",
       "      <td>Gujarat</td>\n",
       "      <td>ASM</td>\n",
       "      <td>Bhuj</td>\n",
       "      <td>Sahil Mansuri|PGGJ1005</td>\n",
       "      <td>5896</td>\n",
       "    </tr>\n",
       "    <tr>\n",
       "      <th>24</th>\n",
       "      <td>Gujarat</td>\n",
       "      <td>ASM</td>\n",
       "      <td>Rajkot</td>\n",
       "      <td>Hitesh Thakkar|PGGJ1004</td>\n",
       "      <td>9493</td>\n",
       "    </tr>\n",
       "    <tr>\n",
       "      <th>54</th>\n",
       "      <td>Gujarat</td>\n",
       "      <td>ASM</td>\n",
       "      <td>Rajkot</td>\n",
       "      <td>Vinesh Trivedi|PGGJ1006</td>\n",
       "      <td>7460</td>\n",
       "    </tr>\n",
       "    <tr>\n",
       "      <th>17</th>\n",
       "      <td>Gujarat</td>\n",
       "      <td>ASM</td>\n",
       "      <td>Vadodara</td>\n",
       "      <td>Girwat Sing Raj|PGGJ1003</td>\n",
       "      <td>4330</td>\n",
       "    </tr>\n",
       "    <tr>\n",
       "      <th>25</th>\n",
       "      <td>Gujarat</td>\n",
       "      <td>SO</td>\n",
       "      <td>Bhavnagar(Mahuwa)</td>\n",
       "      <td>Kalpesh Joshi|PGGJ1007</td>\n",
       "      <td>7947</td>\n",
       "    </tr>\n",
       "    <tr>\n",
       "      <th>...</th>\n",
       "      <td>...</td>\n",
       "      <td>...</td>\n",
       "      <td>...</td>\n",
       "      <td>...</td>\n",
       "      <td>...</td>\n",
       "    </tr>\n",
       "    <tr>\n",
       "      <th>140</th>\n",
       "      <td>Uttarakhand</td>\n",
       "      <td>SR</td>\n",
       "      <td>Kichha</td>\n",
       "      <td>Mohit|PGUK1005</td>\n",
       "      <td>9007</td>\n",
       "    </tr>\n",
       "    <tr>\n",
       "      <th>144</th>\n",
       "      <td>Uttarakhand</td>\n",
       "      <td>SR</td>\n",
       "      <td>Kichha</td>\n",
       "      <td>Sanjeev kumar|PGUK1009</td>\n",
       "      <td>6574</td>\n",
       "    </tr>\n",
       "    <tr>\n",
       "      <th>132</th>\n",
       "      <td>Uttarakhand</td>\n",
       "      <td>SR</td>\n",
       "      <td>Kotdwar</td>\n",
       "      <td>Rakesh Singh|PGUK1013</td>\n",
       "      <td>3128</td>\n",
       "    </tr>\n",
       "    <tr>\n",
       "      <th>136</th>\n",
       "      <td>Uttarakhand</td>\n",
       "      <td>SR</td>\n",
       "      <td>Pithoragarh</td>\n",
       "      <td>Rahul Bhatt|PGUK1002</td>\n",
       "      <td>9523</td>\n",
       "    </tr>\n",
       "    <tr>\n",
       "      <th>143</th>\n",
       "      <td>Uttarakhand</td>\n",
       "      <td>SR</td>\n",
       "      <td>khatima -Kichha</td>\n",
       "      <td>Robin Massy|PGUK1008</td>\n",
       "      <td>2983</td>\n",
       "    </tr>\n",
       "  </tbody>\n",
       "</table>\n",
       "<p>240 rows × 5 columns</p>\n",
       "</div>"
      ],
      "text/plain": [
       "           State User Designation                 HQ  \\\n",
       "32       Gujarat              ASM               Bhuj   \n",
       "24       Gujarat              ASM             Rajkot   \n",
       "54       Gujarat              ASM             Rajkot   \n",
       "17       Gujarat              ASM           Vadodara   \n",
       "25       Gujarat               SO  Bhavnagar(Mahuwa)   \n",
       "..           ...              ...                ...   \n",
       "140  Uttarakhand               SR             Kichha   \n",
       "144  Uttarakhand               SR             Kichha   \n",
       "132  Uttarakhand               SR            Kotdwar   \n",
       "136  Uttarakhand               SR        Pithoragarh   \n",
       "143  Uttarakhand               SR    khatima -Kichha   \n",
       "\n",
       "                         User  Password  \n",
       "32     Sahil Mansuri|PGGJ1005      5896  \n",
       "24    Hitesh Thakkar|PGGJ1004      9493  \n",
       "54    Vinesh Trivedi|PGGJ1006      7460  \n",
       "17   Girwat Sing Raj|PGGJ1003      4330  \n",
       "25     Kalpesh Joshi|PGGJ1007      7947  \n",
       "..                        ...       ...  \n",
       "140            Mohit|PGUK1005      9007  \n",
       "144    Sanjeev kumar|PGUK1009      6574  \n",
       "132     Rakesh Singh|PGUK1013      3128  \n",
       "136      Rahul Bhatt|PGUK1002      9523  \n",
       "143      Robin Massy|PGUK1008      2983  \n",
       "\n",
       "[240 rows x 5 columns]"
      ]
     },
     "execution_count": 9,
     "metadata": {},
     "output_type": "execute_result"
    }
   ],
   "source": [
    "df1"
   ]
  },
  {
   "cell_type": "code",
   "execution_count": 10,
   "id": "98a7c691",
   "metadata": {},
   "outputs": [],
   "source": [
    "df11 = df1.sample(2)"
   ]
  },
  {
   "cell_type": "code",
   "execution_count": 11,
   "id": "bbbb8d6d",
   "metadata": {},
   "outputs": [
    {
     "data": {
      "text/plain": [
       "Index(['State', 'User Designation', 'HQ', 'User', 'Password'], dtype='object')"
      ]
     },
     "execution_count": 11,
     "metadata": {},
     "output_type": "execute_result"
    }
   ],
   "source": [
    "df1.columns"
   ]
  },
  {
   "cell_type": "code",
   "execution_count": 12,
   "id": "5247c0e5",
   "metadata": {},
   "outputs": [],
   "source": [
    "# Create nested dictionary with password at DB level\n",
    "nested = {}\n",
    "\n",
    "for _, row in df1.iterrows():\n",
    "    state = row['State']\n",
    "    ss = row['User Designation']\n",
    "    db = row['HQ']\n",
    "    ws = row['User'] # USER\n",
    "    pwd = row['Password']\n",
    "\n",
    "    state_dict = nested.setdefault(state, {})\n",
    "    ss_dict = state_dict.setdefault(ss, {})\n",
    "    hq_dict = ss_dict.setdefault(db, {})\n",
    "    db_dict = hq_dict.setdefault(ws, {\"password\": pwd, \"user\": []})\n",
    "\n",
    "    db_dict[\"user\"].append(ws)\n",
    "\n",
    "# Save\n",
    "with open(\"data/dropdown.json\", \"w\") as f:\n",
    "    json.dump(nested, f, indent=4)"
   ]
  },
  {
   "cell_type": "code",
   "execution_count": null,
   "id": "08e6277f",
   "metadata": {},
   "outputs": [],
   "source": []
  }
 ],
 "metadata": {
  "kernelspec": {
   "display_name": "Python 3",
   "language": "python",
   "name": "python3"
  },
  "language_info": {
   "codemirror_mode": {
    "name": "ipython",
    "version": 3
   },
   "file_extension": ".py",
   "mimetype": "text/x-python",
   "name": "python",
   "nbconvert_exporter": "python",
   "pygments_lexer": "ipython3",
   "version": "3.13.3"
  }
 },
 "nbformat": 4,
 "nbformat_minor": 5
}
