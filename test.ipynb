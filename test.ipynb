{
 "cells": [
  {
   "cell_type": "code",
   "execution_count": 1,
   "id": "a4847852",
   "metadata": {},
   "outputs": [],
   "source": [
    "import pandas as pd\n",
    "import json"
   ]
  },
  {
   "cell_type": "code",
   "execution_count": 2,
   "id": "fda4de59",
   "metadata": {},
   "outputs": [],
   "source": [
    "df = pd.read_excel('data/DATA.xlsx',sheet_name='user')"
   ]
  },
  {
   "cell_type": "code",
   "execution_count": 3,
   "id": "f8538f45",
   "metadata": {},
   "outputs": [
    {
     "data": {
      "text/plain": [
       "ASM                 349\n",
       "State                 0\n",
       "SO                  349\n",
       "User                  0\n",
       "User Designation      0\n",
       "HQ                    0\n",
       "Password              0\n",
       "TA RATE             349\n",
       "DA RATE             349\n",
       "NIGHT RATE          349\n",
       "Unnamed: 10         349\n",
       "Unnamed: 11         348\n",
       "dtype: int64"
      ]
     },
     "execution_count": 3,
     "metadata": {},
     "output_type": "execute_result"
    }
   ],
   "source": [
    "df.isnull().sum()"
   ]
  },
  {
   "cell_type": "code",
   "execution_count": 4,
   "id": "c92482ea",
   "metadata": {},
   "outputs": [
    {
     "data": {
      "text/plain": [
       "Index(['ASM', 'State', 'SO', 'User', 'User Designation', 'HQ', 'Password',\n",
       "       'TA RATE', 'DA RATE', 'NIGHT RATE', 'Unnamed: 10', 'Unnamed: 11'],\n",
       "      dtype='object')"
      ]
     },
     "execution_count": 4,
     "metadata": {},
     "output_type": "execute_result"
    }
   ],
   "source": [
    "df.columns"
   ]
  },
  {
   "cell_type": "code",
   "execution_count": 5,
   "id": "d8ebc0d1",
   "metadata": {},
   "outputs": [],
   "source": [
    "df = df[['State','ASM','SO','User Designation','HQ','User','Password']]"
   ]
  },
  {
   "cell_type": "code",
   "execution_count": 6,
   "id": "67a1749d",
   "metadata": {},
   "outputs": [
    {
     "data": {
      "text/html": [
       "<div>\n",
       "<style scoped>\n",
       "    .dataframe tbody tr th:only-of-type {\n",
       "        vertical-align: middle;\n",
       "    }\n",
       "\n",
       "    .dataframe tbody tr th {\n",
       "        vertical-align: top;\n",
       "    }\n",
       "\n",
       "    .dataframe thead th {\n",
       "        text-align: right;\n",
       "    }\n",
       "</style>\n",
       "<table border=\"1\" class=\"dataframe\">\n",
       "  <thead>\n",
       "    <tr style=\"text-align: right;\">\n",
       "      <th></th>\n",
       "      <th>State</th>\n",
       "      <th>ASM</th>\n",
       "      <th>SO</th>\n",
       "      <th>User Designation</th>\n",
       "      <th>HQ</th>\n",
       "      <th>User</th>\n",
       "      <th>Password</th>\n",
       "    </tr>\n",
       "  </thead>\n",
       "  <tbody>\n",
       "    <tr>\n",
       "      <th>0</th>\n",
       "      <td>Gujarat</td>\n",
       "      <td>NaN</td>\n",
       "      <td>NaN</td>\n",
       "      <td>SR</td>\n",
       "      <td>Ahmedabad</td>\n",
       "      <td>Amit Kumar Patel</td>\n",
       "      <td>2428</td>\n",
       "    </tr>\n",
       "    <tr>\n",
       "      <th>1</th>\n",
       "      <td>Gujarat</td>\n",
       "      <td>NaN</td>\n",
       "      <td>NaN</td>\n",
       "      <td>SR</td>\n",
       "      <td>Ahmedabad</td>\n",
       "      <td>Dhansukh Algotar</td>\n",
       "      <td>8541</td>\n",
       "    </tr>\n",
       "    <tr>\n",
       "      <th>2</th>\n",
       "      <td>Gujarat</td>\n",
       "      <td>NaN</td>\n",
       "      <td>NaN</td>\n",
       "      <td>SR</td>\n",
       "      <td>Ahmedabad</td>\n",
       "      <td>Hasmukh Prajapati</td>\n",
       "      <td>5766</td>\n",
       "    </tr>\n",
       "    <tr>\n",
       "      <th>3</th>\n",
       "      <td>Gujarat</td>\n",
       "      <td>NaN</td>\n",
       "      <td>NaN</td>\n",
       "      <td>ASM</td>\n",
       "      <td>Ahmedabad</td>\n",
       "      <td>Hitesh Adatiya</td>\n",
       "      <td>5391</td>\n",
       "    </tr>\n",
       "    <tr>\n",
       "      <th>4</th>\n",
       "      <td>Gujarat</td>\n",
       "      <td>NaN</td>\n",
       "      <td>NaN</td>\n",
       "      <td>SR</td>\n",
       "      <td>Ahmedabad</td>\n",
       "      <td>Javed Shaikh</td>\n",
       "      <td>8852</td>\n",
       "    </tr>\n",
       "  </tbody>\n",
       "</table>\n",
       "</div>"
      ],
      "text/plain": [
       "     State  ASM  SO User Designation         HQ               User Password\n",
       "0  Gujarat  NaN NaN               SR  Ahmedabad   Amit Kumar Patel     2428\n",
       "1  Gujarat  NaN NaN               SR  Ahmedabad   Dhansukh Algotar     8541\n",
       "2  Gujarat  NaN NaN               SR  Ahmedabad  Hasmukh Prajapati     5766\n",
       "3  Gujarat  NaN NaN              ASM  Ahmedabad     Hitesh Adatiya     5391\n",
       "4  Gujarat  NaN NaN               SR  Ahmedabad       Javed Shaikh     8852"
      ]
     },
     "execution_count": 6,
     "metadata": {},
     "output_type": "execute_result"
    }
   ],
   "source": [
    "df.head(5)"
   ]
  },
  {
   "cell_type": "code",
   "execution_count": 7,
   "id": "7c78d5d8",
   "metadata": {},
   "outputs": [],
   "source": [
    "df1 = df[['State','User Designation','HQ','User','Password']]"
   ]
  },
  {
   "cell_type": "code",
   "execution_count": 8,
   "id": "f2618434",
   "metadata": {},
   "outputs": [
    {
     "data": {
      "text/html": [
       "<div>\n",
       "<style scoped>\n",
       "    .dataframe tbody tr th:only-of-type {\n",
       "        vertical-align: middle;\n",
       "    }\n",
       "\n",
       "    .dataframe tbody tr th {\n",
       "        vertical-align: top;\n",
       "    }\n",
       "\n",
       "    .dataframe thead th {\n",
       "        text-align: right;\n",
       "    }\n",
       "</style>\n",
       "<table border=\"1\" class=\"dataframe\">\n",
       "  <thead>\n",
       "    <tr style=\"text-align: right;\">\n",
       "      <th></th>\n",
       "      <th>State</th>\n",
       "      <th>User Designation</th>\n",
       "      <th>HQ</th>\n",
       "      <th>User</th>\n",
       "      <th>Password</th>\n",
       "    </tr>\n",
       "  </thead>\n",
       "  <tbody>\n",
       "    <tr>\n",
       "      <th>0</th>\n",
       "      <td>Gujarat</td>\n",
       "      <td>SR</td>\n",
       "      <td>Ahmedabad</td>\n",
       "      <td>Amit Kumar Patel</td>\n",
       "      <td>2428</td>\n",
       "    </tr>\n",
       "    <tr>\n",
       "      <th>1</th>\n",
       "      <td>Gujarat</td>\n",
       "      <td>SR</td>\n",
       "      <td>Ahmedabad</td>\n",
       "      <td>Dhansukh Algotar</td>\n",
       "      <td>8541</td>\n",
       "    </tr>\n",
       "    <tr>\n",
       "      <th>2</th>\n",
       "      <td>Gujarat</td>\n",
       "      <td>SR</td>\n",
       "      <td>Ahmedabad</td>\n",
       "      <td>Hasmukh Prajapati</td>\n",
       "      <td>5766</td>\n",
       "    </tr>\n",
       "    <tr>\n",
       "      <th>3</th>\n",
       "      <td>Gujarat</td>\n",
       "      <td>ASM</td>\n",
       "      <td>Ahmedabad</td>\n",
       "      <td>Hitesh Adatiya</td>\n",
       "      <td>5391</td>\n",
       "    </tr>\n",
       "    <tr>\n",
       "      <th>4</th>\n",
       "      <td>Gujarat</td>\n",
       "      <td>SR</td>\n",
       "      <td>Ahmedabad</td>\n",
       "      <td>Javed Shaikh</td>\n",
       "      <td>8852</td>\n",
       "    </tr>\n",
       "    <tr>\n",
       "      <th>...</th>\n",
       "      <td>...</td>\n",
       "      <td>...</td>\n",
       "      <td>...</td>\n",
       "      <td>...</td>\n",
       "      <td>...</td>\n",
       "    </tr>\n",
       "    <tr>\n",
       "      <th>344</th>\n",
       "      <td>Haryana</td>\n",
       "      <td>SR</td>\n",
       "      <td>Kranal</td>\n",
       "      <td>Subham</td>\n",
       "      <td>1748</td>\n",
       "    </tr>\n",
       "    <tr>\n",
       "      <th>345</th>\n",
       "      <td>Haryana</td>\n",
       "      <td>SR</td>\n",
       "      <td>Ambala</td>\n",
       "      <td>Vishal</td>\n",
       "      <td>8655</td>\n",
       "    </tr>\n",
       "    <tr>\n",
       "      <th>346</th>\n",
       "      <td>Madhya Pradesh</td>\n",
       "      <td>SO</td>\n",
       "      <td>Katni</td>\n",
       "      <td>Ashutosh Parouha</td>\n",
       "      <td>3673</td>\n",
       "    </tr>\n",
       "    <tr>\n",
       "      <th>347</th>\n",
       "      <td>Madhya Pradesh</td>\n",
       "      <td>SR</td>\n",
       "      <td>Panna</td>\n",
       "      <td>Rahul Singh Parihar</td>\n",
       "      <td>2916</td>\n",
       "    </tr>\n",
       "    <tr>\n",
       "      <th>348</th>\n",
       "      <td>Gujarat</td>\n",
       "      <td>SR</td>\n",
       "      <td>Junagarh</td>\n",
       "      <td>Alfez Alibhai Shekh</td>\n",
       "      <td>5443</td>\n",
       "    </tr>\n",
       "  </tbody>\n",
       "</table>\n",
       "<p>349 rows × 5 columns</p>\n",
       "</div>"
      ],
      "text/plain": [
       "              State User Designation         HQ                 User Password\n",
       "0           Gujarat               SR  Ahmedabad     Amit Kumar Patel     2428\n",
       "1           Gujarat               SR  Ahmedabad     Dhansukh Algotar     8541\n",
       "2           Gujarat               SR  Ahmedabad    Hasmukh Prajapati     5766\n",
       "3           Gujarat              ASM  Ahmedabad       Hitesh Adatiya     5391\n",
       "4           Gujarat               SR  Ahmedabad         Javed Shaikh     8852\n",
       "..              ...              ...        ...                  ...      ...\n",
       "344         Haryana               SR     Kranal               Subham     1748\n",
       "345         Haryana               SR     Ambala               Vishal     8655\n",
       "346  Madhya Pradesh               SO      Katni     Ashutosh Parouha     3673\n",
       "347  Madhya Pradesh               SR      Panna  Rahul Singh Parihar     2916\n",
       "348         Gujarat               SR   Junagarh  Alfez Alibhai Shekh     5443\n",
       "\n",
       "[349 rows x 5 columns]"
      ]
     },
     "execution_count": 8,
     "metadata": {},
     "output_type": "execute_result"
    }
   ],
   "source": [
    "df1"
   ]
  },
  {
   "cell_type": "code",
   "execution_count": 9,
   "id": "98a7c691",
   "metadata": {},
   "outputs": [],
   "source": [
    "df11 = df1.sample(2)"
   ]
  },
  {
   "cell_type": "code",
   "execution_count": 10,
   "id": "5247c0e5",
   "metadata": {},
   "outputs": [],
   "source": [
    "# Create nested dictionary with password at DB level\n",
    "nested = {}\n",
    "\n",
    "for _, row in df1.iterrows():\n",
    "    state = row['State']\n",
    "    ss = row['User Designation']\n",
    "    db = row['HQ']\n",
    "    ws = row['User'] # USER\n",
    "    pwd = row['Password']\n",
    "\n",
    "    state_dict = nested.setdefault(state, {})\n",
    "    ss_dict = state_dict.setdefault(ss, {})\n",
    "    hq_dict = ss_dict.setdefault(db, {})\n",
    "    db_dict = hq_dict.setdefault(ws, {\"password\": pwd, \"user\": []})\n",
    "\n",
    "    db_dict[\"user\"].append(ws)\n",
    "\n",
    "# Save\n",
    "with open(\"data/dropdown.json\", \"w\") as f:\n",
    "    json.dump(nested, f, indent=4)"
   ]
  },
  {
   "cell_type": "code",
   "execution_count": null,
   "id": "08e6277f",
   "metadata": {},
   "outputs": [],
   "source": []
  }
 ],
 "metadata": {
  "kernelspec": {
   "display_name": "Python 3",
   "language": "python",
   "name": "python3"
  },
  "language_info": {
   "codemirror_mode": {
    "name": "ipython",
    "version": 3
   },
   "file_extension": ".py",
   "mimetype": "text/x-python",
   "name": "python",
   "nbconvert_exporter": "python",
   "pygments_lexer": "ipython3",
   "version": "3.13.3"
  }
 },
 "nbformat": 4,
 "nbformat_minor": 5
}
