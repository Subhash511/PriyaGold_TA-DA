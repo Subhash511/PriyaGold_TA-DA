{
 "cells": [
  {
   "cell_type": "code",
   "execution_count": 45,
   "id": "a4847852",
   "metadata": {},
   "outputs": [],
   "source": [
    "import pandas as pd\n",
    "import json"
   ]
  },
  {
   "cell_type": "code",
   "execution_count": 46,
   "id": "fda4de59",
   "metadata": {},
   "outputs": [],
   "source": [
    "df = pd.read_excel('data/DATA.xlsx',sheet_name='user')"
   ]
  },
  {
   "cell_type": "code",
   "execution_count": 47,
   "id": "f8538f45",
   "metadata": {},
   "outputs": [
    {
     "data": {
      "text/plain": [
       "ASM                 0\n",
       "SO                  0\n",
       "State               0\n",
       "User                0\n",
       "User Designation    0\n",
       "HQ                  0\n",
       "Password            0\n",
       "dtype: int64"
      ]
     },
     "execution_count": 47,
     "metadata": {},
     "output_type": "execute_result"
    }
   ],
   "source": [
    "df.isnull().sum()"
   ]
  },
  {
   "cell_type": "code",
   "execution_count": 48,
   "id": "c92482ea",
   "metadata": {},
   "outputs": [
    {
     "data": {
      "text/plain": [
       "Index(['ASM', 'SO', 'State', 'User', 'User Designation', 'HQ', 'Password'], dtype='object')"
      ]
     },
     "execution_count": 48,
     "metadata": {},
     "output_type": "execute_result"
    }
   ],
   "source": [
    "df.columns"
   ]
  },
  {
   "cell_type": "code",
   "execution_count": 49,
   "id": "d8ebc0d1",
   "metadata": {},
   "outputs": [],
   "source": [
    "df = df[['State','ASM','SO','User Designation','HQ','User','Password']]"
   ]
  },
  {
   "cell_type": "code",
   "execution_count": 50,
   "id": "67a1749d",
   "metadata": {},
   "outputs": [
    {
     "data": {
      "text/html": [
       "<div>\n",
       "<style scoped>\n",
       "    .dataframe tbody tr th:only-of-type {\n",
       "        vertical-align: middle;\n",
       "    }\n",
       "\n",
       "    .dataframe tbody tr th {\n",
       "        vertical-align: top;\n",
       "    }\n",
       "\n",
       "    .dataframe thead th {\n",
       "        text-align: right;\n",
       "    }\n",
       "</style>\n",
       "<table border=\"1\" class=\"dataframe\">\n",
       "  <thead>\n",
       "    <tr style=\"text-align: right;\">\n",
       "      <th></th>\n",
       "      <th>State</th>\n",
       "      <th>ASM</th>\n",
       "      <th>SO</th>\n",
       "      <th>User Designation</th>\n",
       "      <th>HQ</th>\n",
       "      <th>User</th>\n",
       "      <th>Password</th>\n",
       "    </tr>\n",
       "  </thead>\n",
       "  <tbody>\n",
       "    <tr>\n",
       "      <th>0</th>\n",
       "      <td>Gujarat</td>\n",
       "      <td>Manglik Kumar H Mehta</td>\n",
       "      <td>Manglik Kumar H Mehta</td>\n",
       "      <td>RSM</td>\n",
       "      <td>Ahmedabad</td>\n",
       "      <td>Manglik Kumar H Mehta</td>\n",
       "      <td>2025</td>\n",
       "    </tr>\n",
       "    <tr>\n",
       "      <th>1</th>\n",
       "      <td>Gujarat</td>\n",
       "      <td>vacant- Ahmedabad- Asm</td>\n",
       "      <td>Vacant- Ahmedabad -so</td>\n",
       "      <td>SR</td>\n",
       "      <td>Ahmedabad</td>\n",
       "      <td>Amit Kumar Patel</td>\n",
       "      <td>2025</td>\n",
       "    </tr>\n",
       "    <tr>\n",
       "      <th>2</th>\n",
       "      <td>Gujarat</td>\n",
       "      <td>vacant- Ahmedabad- Asm</td>\n",
       "      <td>Vacant- Ahmedabad -so</td>\n",
       "      <td>SR</td>\n",
       "      <td>Ahmedabad</td>\n",
       "      <td>Dhansukh Algotar</td>\n",
       "      <td>2025</td>\n",
       "    </tr>\n",
       "    <tr>\n",
       "      <th>3</th>\n",
       "      <td>Gujarat</td>\n",
       "      <td>vacant- Ahmedabad- Asm</td>\n",
       "      <td>Vacant- Ahmedabad -so</td>\n",
       "      <td>SR</td>\n",
       "      <td>Ahmedabad</td>\n",
       "      <td>Hasumukh Prajapati</td>\n",
       "      <td>2025</td>\n",
       "    </tr>\n",
       "    <tr>\n",
       "      <th>4</th>\n",
       "      <td>Gujarat</td>\n",
       "      <td>vacant- Ahmedabad- Asm</td>\n",
       "      <td>Vacant- Ahmedabad -so</td>\n",
       "      <td>SR</td>\n",
       "      <td>Ahmedabad</td>\n",
       "      <td>Javed Shaikh</td>\n",
       "      <td>2025</td>\n",
       "    </tr>\n",
       "  </tbody>\n",
       "</table>\n",
       "</div>"
      ],
      "text/plain": [
       "     State                     ASM                     SO User Designation  \\\n",
       "0  Gujarat   Manglik Kumar H Mehta  Manglik Kumar H Mehta              RSM   \n",
       "1  Gujarat  vacant- Ahmedabad- Asm  Vacant- Ahmedabad -so               SR   \n",
       "2  Gujarat  vacant- Ahmedabad- Asm  Vacant- Ahmedabad -so               SR   \n",
       "3  Gujarat  vacant- Ahmedabad- Asm  Vacant- Ahmedabad -so               SR   \n",
       "4  Gujarat  vacant- Ahmedabad- Asm  Vacant- Ahmedabad -so               SR   \n",
       "\n",
       "          HQ                   User  Password  \n",
       "0  Ahmedabad  Manglik Kumar H Mehta      2025  \n",
       "1  Ahmedabad       Amit Kumar Patel      2025  \n",
       "2  Ahmedabad       Dhansukh Algotar      2025  \n",
       "3  Ahmedabad     Hasumukh Prajapati      2025  \n",
       "4  Ahmedabad           Javed Shaikh      2025  "
      ]
     },
     "execution_count": 50,
     "metadata": {},
     "output_type": "execute_result"
    }
   ],
   "source": [
    "df.head(5)"
   ]
  },
  {
   "cell_type": "code",
   "execution_count": 51,
   "id": "7c78d5d8",
   "metadata": {},
   "outputs": [],
   "source": [
    "df1 = df[['State','User Designation','HQ','User','Password']]"
   ]
  },
  {
   "cell_type": "code",
   "execution_count": 52,
   "id": "f2618434",
   "metadata": {},
   "outputs": [
    {
     "data": {
      "text/html": [
       "<div>\n",
       "<style scoped>\n",
       "    .dataframe tbody tr th:only-of-type {\n",
       "        vertical-align: middle;\n",
       "    }\n",
       "\n",
       "    .dataframe tbody tr th {\n",
       "        vertical-align: top;\n",
       "    }\n",
       "\n",
       "    .dataframe thead th {\n",
       "        text-align: right;\n",
       "    }\n",
       "</style>\n",
       "<table border=\"1\" class=\"dataframe\">\n",
       "  <thead>\n",
       "    <tr style=\"text-align: right;\">\n",
       "      <th></th>\n",
       "      <th>State</th>\n",
       "      <th>User Designation</th>\n",
       "      <th>HQ</th>\n",
       "      <th>User</th>\n",
       "      <th>Password</th>\n",
       "    </tr>\n",
       "  </thead>\n",
       "  <tbody>\n",
       "    <tr>\n",
       "      <th>0</th>\n",
       "      <td>Gujarat</td>\n",
       "      <td>RSM</td>\n",
       "      <td>Ahmedabad</td>\n",
       "      <td>Manglik Kumar H Mehta</td>\n",
       "      <td>2025</td>\n",
       "    </tr>\n",
       "    <tr>\n",
       "      <th>1</th>\n",
       "      <td>Gujarat</td>\n",
       "      <td>SR</td>\n",
       "      <td>Ahmedabad</td>\n",
       "      <td>Amit Kumar Patel</td>\n",
       "      <td>2025</td>\n",
       "    </tr>\n",
       "    <tr>\n",
       "      <th>2</th>\n",
       "      <td>Gujarat</td>\n",
       "      <td>SR</td>\n",
       "      <td>Ahmedabad</td>\n",
       "      <td>Dhansukh Algotar</td>\n",
       "      <td>2025</td>\n",
       "    </tr>\n",
       "    <tr>\n",
       "      <th>3</th>\n",
       "      <td>Gujarat</td>\n",
       "      <td>SR</td>\n",
       "      <td>Ahmedabad</td>\n",
       "      <td>Hasumukh Prajapati</td>\n",
       "      <td>2025</td>\n",
       "    </tr>\n",
       "    <tr>\n",
       "      <th>4</th>\n",
       "      <td>Gujarat</td>\n",
       "      <td>SR</td>\n",
       "      <td>Ahmedabad</td>\n",
       "      <td>Javed Shaikh</td>\n",
       "      <td>2025</td>\n",
       "    </tr>\n",
       "    <tr>\n",
       "      <th>...</th>\n",
       "      <td>...</td>\n",
       "      <td>...</td>\n",
       "      <td>...</td>\n",
       "      <td>...</td>\n",
       "      <td>...</td>\n",
       "    </tr>\n",
       "    <tr>\n",
       "      <th>113</th>\n",
       "      <td>Rajasthan</td>\n",
       "      <td>SR</td>\n",
       "      <td>Jodhpur</td>\n",
       "      <td>Devendra singh</td>\n",
       "      <td>2025</td>\n",
       "    </tr>\n",
       "    <tr>\n",
       "      <th>114</th>\n",
       "      <td>Rajasthan</td>\n",
       "      <td>SR</td>\n",
       "      <td>Jodhpur</td>\n",
       "      <td>Manoj Kumar Sharma</td>\n",
       "      <td>2025</td>\n",
       "    </tr>\n",
       "    <tr>\n",
       "      <th>115</th>\n",
       "      <td>Rajasthan</td>\n",
       "      <td>SR</td>\n",
       "      <td>Sumerpur</td>\n",
       "      <td>Mohd Naim</td>\n",
       "      <td>2025</td>\n",
       "    </tr>\n",
       "    <tr>\n",
       "      <th>116</th>\n",
       "      <td>Rajasthan</td>\n",
       "      <td>SR</td>\n",
       "      <td>Sumerpur</td>\n",
       "      <td>Mukesh Parmar</td>\n",
       "      <td>2025</td>\n",
       "    </tr>\n",
       "    <tr>\n",
       "      <th>117</th>\n",
       "      <td>Rajasthan</td>\n",
       "      <td>SR</td>\n",
       "      <td>Sumerpur</td>\n",
       "      <td>Shaitan Singh</td>\n",
       "      <td>2025</td>\n",
       "    </tr>\n",
       "  </tbody>\n",
       "</table>\n",
       "<p>118 rows × 5 columns</p>\n",
       "</div>"
      ],
      "text/plain": [
       "         State User Designation         HQ                   User  Password\n",
       "0      Gujarat              RSM  Ahmedabad  Manglik Kumar H Mehta      2025\n",
       "1      Gujarat               SR  Ahmedabad       Amit Kumar Patel      2025\n",
       "2      Gujarat               SR  Ahmedabad       Dhansukh Algotar      2025\n",
       "3      Gujarat               SR  Ahmedabad     Hasumukh Prajapati      2025\n",
       "4      Gujarat               SR  Ahmedabad           Javed Shaikh      2025\n",
       "..         ...              ...        ...                    ...       ...\n",
       "113  Rajasthan               SR    Jodhpur         Devendra singh      2025\n",
       "114  Rajasthan               SR    Jodhpur     Manoj Kumar Sharma      2025\n",
       "115  Rajasthan               SR   Sumerpur              Mohd Naim      2025\n",
       "116  Rajasthan               SR   Sumerpur          Mukesh Parmar      2025\n",
       "117  Rajasthan               SR   Sumerpur          Shaitan Singh      2025\n",
       "\n",
       "[118 rows x 5 columns]"
      ]
     },
     "execution_count": 52,
     "metadata": {},
     "output_type": "execute_result"
    }
   ],
   "source": [
    "df1"
   ]
  },
  {
   "cell_type": "code",
   "execution_count": 53,
   "id": "98a7c691",
   "metadata": {},
   "outputs": [],
   "source": [
    "df11 = df1.sample(2)"
   ]
  },
  {
   "cell_type": "code",
   "execution_count": 54,
   "id": "5247c0e5",
   "metadata": {},
   "outputs": [],
   "source": [
    "# Create nested dictionary with password at DB level\n",
    "nested = {}\n",
    "\n",
    "for _, row in df1.iterrows():\n",
    "    state = row['State']\n",
    "    ss = row['User Designation']\n",
    "    db = row['HQ']\n",
    "    ws = row['User'] # USER\n",
    "    pwd = row['Password']\n",
    "\n",
    "    state_dict = nested.setdefault(state, {})\n",
    "    ss_dict = state_dict.setdefault(ss, {})\n",
    "    hq_dict = ss_dict.setdefault(db, {})\n",
    "    db_dict = hq_dict.setdefault(ws, {\"password\": pwd, \"user\": []})\n",
    "\n",
    "    db_dict[\"user\"].append(ws)\n",
    "\n",
    "# Save\n",
    "with open(\"data/dropdown.json\", \"w\") as f:\n",
    "    json.dump(nested, f, indent=4)"
   ]
  },
  {
   "cell_type": "code",
   "execution_count": null,
   "id": "08e6277f",
   "metadata": {},
   "outputs": [],
   "source": []
  }
 ],
 "metadata": {
  "kernelspec": {
   "display_name": "Python 3",
   "language": "python",
   "name": "python3"
  },
  "language_info": {
   "codemirror_mode": {
    "name": "ipython",
    "version": 3
   },
   "file_extension": ".py",
   "mimetype": "text/x-python",
   "name": "python",
   "nbconvert_exporter": "python",
   "pygments_lexer": "ipython3",
   "version": "3.13.3"
  }
 },
 "nbformat": 4,
 "nbformat_minor": 5
}
