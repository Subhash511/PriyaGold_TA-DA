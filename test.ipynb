{
 "cells": [
  {
   "cell_type": "code",
   "execution_count": 36,
   "id": "a4847852",
   "metadata": {},
   "outputs": [],
   "source": [
    "import pandas as pd\n",
    "import json"
   ]
  },
  {
   "cell_type": "code",
   "execution_count": 37,
   "id": "fda4de59",
   "metadata": {},
   "outputs": [],
   "source": [
    "df = pd.read_excel('data/DATA.xlsx',sheet_name='user')"
   ]
  },
  {
   "cell_type": "code",
   "execution_count": 38,
   "id": "f8538f45",
   "metadata": {},
   "outputs": [
    {
     "data": {
      "text/plain": [
       "User                0\n",
       "State               0\n",
       "ID                  0\n",
       "Name                0\n",
       "HQ                  0\n",
       "User Designation    0\n",
       "Mobile              0\n",
       "Password            0\n",
       "dtype: int64"
      ]
     },
     "execution_count": 38,
     "metadata": {},
     "output_type": "execute_result"
    }
   ],
   "source": [
    "df.isnull().sum()"
   ]
  },
  {
   "cell_type": "code",
   "execution_count": 39,
   "id": "c92482ea",
   "metadata": {},
   "outputs": [
    {
     "data": {
      "text/plain": [
       "Index(['User', 'State', 'ID', 'Name', 'HQ', 'User Designation', 'Mobile',\n",
       "       'Password'],\n",
       "      dtype='object')"
      ]
     },
     "execution_count": 39,
     "metadata": {},
     "output_type": "execute_result"
    }
   ],
   "source": [
    "df.columns"
   ]
  },
  {
   "cell_type": "code",
   "execution_count": 40,
   "id": "d8ebc0d1",
   "metadata": {},
   "outputs": [],
   "source": [
    "df = df[['State','User Designation','HQ','User','Password']]"
   ]
  },
  {
   "cell_type": "code",
   "execution_count": 41,
   "id": "1c7d5aa3",
   "metadata": {},
   "outputs": [],
   "source": [
    "df.sort_values(by=['State','User Designation','HQ','User'],inplace=True)"
   ]
  },
  {
   "cell_type": "code",
   "execution_count": 42,
   "id": "67a1749d",
   "metadata": {},
   "outputs": [
    {
     "data": {
      "text/html": [
       "<div>\n",
       "<style scoped>\n",
       "    .dataframe tbody tr th:only-of-type {\n",
       "        vertical-align: middle;\n",
       "    }\n",
       "\n",
       "    .dataframe tbody tr th {\n",
       "        vertical-align: top;\n",
       "    }\n",
       "\n",
       "    .dataframe thead th {\n",
       "        text-align: right;\n",
       "    }\n",
       "</style>\n",
       "<table border=\"1\" class=\"dataframe\">\n",
       "  <thead>\n",
       "    <tr style=\"text-align: right;\">\n",
       "      <th></th>\n",
       "      <th>State</th>\n",
       "      <th>User Designation</th>\n",
       "      <th>HQ</th>\n",
       "      <th>User</th>\n",
       "      <th>Password</th>\n",
       "    </tr>\n",
       "  </thead>\n",
       "  <tbody>\n",
       "    <tr>\n",
       "      <th>9</th>\n",
       "      <td>Gujarat</td>\n",
       "      <td>ASM</td>\n",
       "      <td>Bhuj</td>\n",
       "      <td>Sahil Mansuri|PGGJ1005</td>\n",
       "      <td>5896</td>\n",
       "    </tr>\n",
       "    <tr>\n",
       "      <th>18</th>\n",
       "      <td>Gujarat</td>\n",
       "      <td>ASM</td>\n",
       "      <td>Rajkot</td>\n",
       "      <td>Hitesh Thakkar|PGGJ1004</td>\n",
       "      <td>9493</td>\n",
       "    </tr>\n",
       "    <tr>\n",
       "      <th>23</th>\n",
       "      <td>Gujarat</td>\n",
       "      <td>ASM</td>\n",
       "      <td>Rajkot</td>\n",
       "      <td>Vinesh Trivedi|PGGJ1006</td>\n",
       "      <td>7460</td>\n",
       "    </tr>\n",
       "    <tr>\n",
       "      <th>30</th>\n",
       "      <td>Gujarat</td>\n",
       "      <td>ASM</td>\n",
       "      <td>Vadodara</td>\n",
       "      <td>Girwat Sing Raj|PGGJ1003</td>\n",
       "      <td>4330</td>\n",
       "    </tr>\n",
       "    <tr>\n",
       "      <th>240</th>\n",
       "      <td>Gujarat</td>\n",
       "      <td>RSM</td>\n",
       "      <td>Surat</td>\n",
       "      <td>Shashi Bhushan Mishra|PGGJ1045</td>\n",
       "      <td>1123</td>\n",
       "    </tr>\n",
       "  </tbody>\n",
       "</table>\n",
       "</div>"
      ],
      "text/plain": [
       "       State User Designation        HQ                            User  \\\n",
       "9    Gujarat              ASM      Bhuj          Sahil Mansuri|PGGJ1005   \n",
       "18   Gujarat              ASM    Rajkot         Hitesh Thakkar|PGGJ1004   \n",
       "23   Gujarat              ASM    Rajkot         Vinesh Trivedi|PGGJ1006   \n",
       "30   Gujarat              ASM  Vadodara        Girwat Sing Raj|PGGJ1003   \n",
       "240  Gujarat              RSM     Surat  Shashi Bhushan Mishra|PGGJ1045   \n",
       "\n",
       "     Password  \n",
       "9        5896  \n",
       "18       9493  \n",
       "23       7460  \n",
       "30       4330  \n",
       "240      1123  "
      ]
     },
     "execution_count": 42,
     "metadata": {},
     "output_type": "execute_result"
    }
   ],
   "source": [
    "df.head(5)"
   ]
  },
  {
   "cell_type": "code",
   "execution_count": 43,
   "id": "7c78d5d8",
   "metadata": {},
   "outputs": [],
   "source": [
    "df1 = df[['State','User Designation','HQ','User','Password']]"
   ]
  },
  {
   "cell_type": "code",
   "execution_count": 44,
   "id": "f2618434",
   "metadata": {},
   "outputs": [
    {
     "data": {
      "text/html": [
       "<div>\n",
       "<style scoped>\n",
       "    .dataframe tbody tr th:only-of-type {\n",
       "        vertical-align: middle;\n",
       "    }\n",
       "\n",
       "    .dataframe tbody tr th {\n",
       "        vertical-align: top;\n",
       "    }\n",
       "\n",
       "    .dataframe thead th {\n",
       "        text-align: right;\n",
       "    }\n",
       "</style>\n",
       "<table border=\"1\" class=\"dataframe\">\n",
       "  <thead>\n",
       "    <tr style=\"text-align: right;\">\n",
       "      <th></th>\n",
       "      <th>State</th>\n",
       "      <th>User Designation</th>\n",
       "      <th>HQ</th>\n",
       "      <th>User</th>\n",
       "      <th>Password</th>\n",
       "    </tr>\n",
       "  </thead>\n",
       "  <tbody>\n",
       "    <tr>\n",
       "      <th>9</th>\n",
       "      <td>Gujarat</td>\n",
       "      <td>ASM</td>\n",
       "      <td>Bhuj</td>\n",
       "      <td>Sahil Mansuri|PGGJ1005</td>\n",
       "      <td>5896</td>\n",
       "    </tr>\n",
       "    <tr>\n",
       "      <th>18</th>\n",
       "      <td>Gujarat</td>\n",
       "      <td>ASM</td>\n",
       "      <td>Rajkot</td>\n",
       "      <td>Hitesh Thakkar|PGGJ1004</td>\n",
       "      <td>9493</td>\n",
       "    </tr>\n",
       "    <tr>\n",
       "      <th>23</th>\n",
       "      <td>Gujarat</td>\n",
       "      <td>ASM</td>\n",
       "      <td>Rajkot</td>\n",
       "      <td>Vinesh Trivedi|PGGJ1006</td>\n",
       "      <td>7460</td>\n",
       "    </tr>\n",
       "    <tr>\n",
       "      <th>30</th>\n",
       "      <td>Gujarat</td>\n",
       "      <td>ASM</td>\n",
       "      <td>Vadodara</td>\n",
       "      <td>Girwat Sing Raj|PGGJ1003</td>\n",
       "      <td>4330</td>\n",
       "    </tr>\n",
       "    <tr>\n",
       "      <th>240</th>\n",
       "      <td>Gujarat</td>\n",
       "      <td>RSM</td>\n",
       "      <td>Surat</td>\n",
       "      <td>Shashi Bhushan Mishra|PGGJ1045</td>\n",
       "      <td>1123</td>\n",
       "    </tr>\n",
       "    <tr>\n",
       "      <th>...</th>\n",
       "      <td>...</td>\n",
       "      <td>...</td>\n",
       "      <td>...</td>\n",
       "      <td>...</td>\n",
       "      <td>...</td>\n",
       "    </tr>\n",
       "    <tr>\n",
       "      <th>208</th>\n",
       "      <td>Uttarakhand</td>\n",
       "      <td>SR</td>\n",
       "      <td>Kichha</td>\n",
       "      <td>Mohit|PGUK1005</td>\n",
       "      <td>9007</td>\n",
       "    </tr>\n",
       "    <tr>\n",
       "      <th>209</th>\n",
       "      <td>Uttarakhand</td>\n",
       "      <td>SR</td>\n",
       "      <td>Kichha</td>\n",
       "      <td>Sanjeev Kumar|PGUK1009</td>\n",
       "      <td>6574</td>\n",
       "    </tr>\n",
       "    <tr>\n",
       "      <th>211</th>\n",
       "      <td>Uttarakhand</td>\n",
       "      <td>SR</td>\n",
       "      <td>Kotdwar</td>\n",
       "      <td>Rakesh Singh|PGUK1013</td>\n",
       "      <td>3128</td>\n",
       "    </tr>\n",
       "    <tr>\n",
       "      <th>250</th>\n",
       "      <td>Uttarakhand</td>\n",
       "      <td>SR</td>\n",
       "      <td>Rishikesh</td>\n",
       "      <td>Deepak|PGUK1027</td>\n",
       "      <td>2968</td>\n",
       "    </tr>\n",
       "    <tr>\n",
       "      <th>234</th>\n",
       "      <td>Uttarakhand</td>\n",
       "      <td>SR</td>\n",
       "      <td>Roorkee</td>\n",
       "      <td>Krish|PGUK1025</td>\n",
       "      <td>4082</td>\n",
       "    </tr>\n",
       "  </tbody>\n",
       "</table>\n",
       "<p>263 rows × 5 columns</p>\n",
       "</div>"
      ],
      "text/plain": [
       "           State User Designation         HQ                            User  \\\n",
       "9        Gujarat              ASM       Bhuj          Sahil Mansuri|PGGJ1005   \n",
       "18       Gujarat              ASM     Rajkot         Hitesh Thakkar|PGGJ1004   \n",
       "23       Gujarat              ASM     Rajkot         Vinesh Trivedi|PGGJ1006   \n",
       "30       Gujarat              ASM   Vadodara        Girwat Sing Raj|PGGJ1003   \n",
       "240      Gujarat              RSM      Surat  Shashi Bhushan Mishra|PGGJ1045   \n",
       "..           ...              ...        ...                             ...   \n",
       "208  Uttarakhand               SR     Kichha                  Mohit|PGUK1005   \n",
       "209  Uttarakhand               SR     Kichha          Sanjeev Kumar|PGUK1009   \n",
       "211  Uttarakhand               SR    Kotdwar           Rakesh Singh|PGUK1013   \n",
       "250  Uttarakhand               SR  Rishikesh                 Deepak|PGUK1027   \n",
       "234  Uttarakhand               SR    Roorkee                  Krish|PGUK1025   \n",
       "\n",
       "     Password  \n",
       "9        5896  \n",
       "18       9493  \n",
       "23       7460  \n",
       "30       4330  \n",
       "240      1123  \n",
       "..        ...  \n",
       "208      9007  \n",
       "209      6574  \n",
       "211      3128  \n",
       "250      2968  \n",
       "234      4082  \n",
       "\n",
       "[263 rows x 5 columns]"
      ]
     },
     "execution_count": 44,
     "metadata": {},
     "output_type": "execute_result"
    }
   ],
   "source": [
    "df1"
   ]
  },
  {
   "cell_type": "code",
   "execution_count": 45,
   "id": "98a7c691",
   "metadata": {},
   "outputs": [],
   "source": [
    "df11 = df1.sample(2)"
   ]
  },
  {
   "cell_type": "code",
   "execution_count": 46,
   "id": "bbbb8d6d",
   "metadata": {},
   "outputs": [
    {
     "data": {
      "text/plain": [
       "Index(['State', 'User Designation', 'HQ', 'User', 'Password'], dtype='object')"
      ]
     },
     "execution_count": 46,
     "metadata": {},
     "output_type": "execute_result"
    }
   ],
   "source": [
    "df1.columns"
   ]
  },
  {
   "cell_type": "code",
   "execution_count": 47,
   "id": "5247c0e5",
   "metadata": {},
   "outputs": [],
   "source": [
    "# Create nested dictionary with password at DB level\n",
    "nested = {}\n",
    "\n",
    "for _, row in df1.iterrows():\n",
    "    state = row['State']\n",
    "    ss = row['User Designation']\n",
    "    db = row['HQ']\n",
    "    ws = row['User'] # USER\n",
    "    pwd = row['Password']\n",
    "\n",
    "    state_dict = nested.setdefault(state, {})\n",
    "    ss_dict = state_dict.setdefault(ss, {})\n",
    "    hq_dict = ss_dict.setdefault(db, {})\n",
    "    db_dict = hq_dict.setdefault(ws, {\"password\": pwd, \"user\": []})\n",
    "\n",
    "    db_dict[\"user\"].append(ws)\n",
    "\n",
    "# Save\n",
    "with open(\"data/dropdown.json\", \"w\") as f:\n",
    "    json.dump(nested, f, indent=4)"
   ]
  },
  {
   "cell_type": "code",
   "execution_count": null,
   "id": "08e6277f",
   "metadata": {},
   "outputs": [],
   "source": []
  }
 ],
 "metadata": {
  "kernelspec": {
   "display_name": "Python 3",
   "language": "python",
   "name": "python3"
  },
  "language_info": {
   "codemirror_mode": {
    "name": "ipython",
    "version": 3
   },
   "file_extension": ".py",
   "mimetype": "text/x-python",
   "name": "python",
   "nbconvert_exporter": "python",
   "pygments_lexer": "ipython3",
   "version": "3.13.3"
  }
 },
 "nbformat": 4,
 "nbformat_minor": 5
}
