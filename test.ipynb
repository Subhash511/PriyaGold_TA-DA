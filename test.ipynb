{
 "cells": [
  {
   "cell_type": "code",
   "execution_count": 24,
   "id": "a4847852",
   "metadata": {},
   "outputs": [],
   "source": [
    "import pandas as pd\n",
    "import json"
   ]
  },
  {
   "cell_type": "code",
   "execution_count": 25,
   "id": "fda4de59",
   "metadata": {},
   "outputs": [],
   "source": [
    "df = pd.read_excel('data/DATA.xlsx',sheet_name='user')"
   ]
  },
  {
   "cell_type": "code",
   "execution_count": 26,
   "id": "f8538f45",
   "metadata": {},
   "outputs": [
    {
     "data": {
      "text/plain": [
       "User                0\n",
       "State               0\n",
       "ID                  0\n",
       "Name                0\n",
       "HQ                  0\n",
       "User Designation    0\n",
       "Mobile              0\n",
       "Password            0\n",
       "dtype: int64"
      ]
     },
     "execution_count": 26,
     "metadata": {},
     "output_type": "execute_result"
    }
   ],
   "source": [
    "df.isnull().sum()"
   ]
  },
  {
   "cell_type": "code",
   "execution_count": 27,
   "id": "c92482ea",
   "metadata": {},
   "outputs": [
    {
     "data": {
      "text/plain": [
       "Index(['User', 'State', 'ID', 'Name', 'HQ', 'User Designation', 'Mobile',\n",
       "       'Password'],\n",
       "      dtype='object')"
      ]
     },
     "execution_count": 27,
     "metadata": {},
     "output_type": "execute_result"
    }
   ],
   "source": [
    "df.columns"
   ]
  },
  {
   "cell_type": "code",
   "execution_count": 28,
   "id": "d8ebc0d1",
   "metadata": {},
   "outputs": [],
   "source": [
    "df = df[['State','User Designation','HQ','User','Password']]"
   ]
  },
  {
   "cell_type": "code",
   "execution_count": 29,
   "id": "1c7d5aa3",
   "metadata": {},
   "outputs": [],
   "source": [
    "df.sort_values(by=['State','User Designation','HQ','User'],inplace=True)"
   ]
  },
  {
   "cell_type": "code",
   "execution_count": 30,
   "id": "67a1749d",
   "metadata": {},
   "outputs": [
    {
     "data": {
      "text/html": [
       "<div>\n",
       "<style scoped>\n",
       "    .dataframe tbody tr th:only-of-type {\n",
       "        vertical-align: middle;\n",
       "    }\n",
       "\n",
       "    .dataframe tbody tr th {\n",
       "        vertical-align: top;\n",
       "    }\n",
       "\n",
       "    .dataframe thead th {\n",
       "        text-align: right;\n",
       "    }\n",
       "</style>\n",
       "<table border=\"1\" class=\"dataframe\">\n",
       "  <thead>\n",
       "    <tr style=\"text-align: right;\">\n",
       "      <th></th>\n",
       "      <th>State</th>\n",
       "      <th>User Designation</th>\n",
       "      <th>HQ</th>\n",
       "      <th>User</th>\n",
       "      <th>Password</th>\n",
       "    </tr>\n",
       "  </thead>\n",
       "  <tbody>\n",
       "    <tr>\n",
       "      <th>9</th>\n",
       "      <td>Gujarat</td>\n",
       "      <td>ASM</td>\n",
       "      <td>Bhuj</td>\n",
       "      <td>Sahil Mansuri|PGGJ1005</td>\n",
       "      <td>5896</td>\n",
       "    </tr>\n",
       "    <tr>\n",
       "      <th>19</th>\n",
       "      <td>Gujarat</td>\n",
       "      <td>ASM</td>\n",
       "      <td>Rajkot</td>\n",
       "      <td>Hitesh Thakkar|PGGJ1004</td>\n",
       "      <td>9493</td>\n",
       "    </tr>\n",
       "    <tr>\n",
       "      <th>24</th>\n",
       "      <td>Gujarat</td>\n",
       "      <td>ASM</td>\n",
       "      <td>Rajkot</td>\n",
       "      <td>Vinesh Trivedi|PGGJ1006</td>\n",
       "      <td>7460</td>\n",
       "    </tr>\n",
       "    <tr>\n",
       "      <th>33</th>\n",
       "      <td>Gujarat</td>\n",
       "      <td>ASM</td>\n",
       "      <td>Vadodara</td>\n",
       "      <td>Girwat Sing Raj|PGGJ1003</td>\n",
       "      <td>4330</td>\n",
       "    </tr>\n",
       "    <tr>\n",
       "      <th>271</th>\n",
       "      <td>Gujarat</td>\n",
       "      <td>RSM</td>\n",
       "      <td>Surat</td>\n",
       "      <td>Shashi Bhushan Mishra|PGGJ1045</td>\n",
       "      <td>1123</td>\n",
       "    </tr>\n",
       "  </tbody>\n",
       "</table>\n",
       "</div>"
      ],
      "text/plain": [
       "       State User Designation        HQ                            User  \\\n",
       "9    Gujarat              ASM      Bhuj          Sahil Mansuri|PGGJ1005   \n",
       "19   Gujarat              ASM    Rajkot         Hitesh Thakkar|PGGJ1004   \n",
       "24   Gujarat              ASM    Rajkot         Vinesh Trivedi|PGGJ1006   \n",
       "33   Gujarat              ASM  Vadodara        Girwat Sing Raj|PGGJ1003   \n",
       "271  Gujarat              RSM     Surat  Shashi Bhushan Mishra|PGGJ1045   \n",
       "\n",
       "     Password  \n",
       "9        5896  \n",
       "19       9493  \n",
       "24       7460  \n",
       "33       4330  \n",
       "271      1123  "
      ]
     },
     "execution_count": 30,
     "metadata": {},
     "output_type": "execute_result"
    }
   ],
   "source": [
    "df.head(5)"
   ]
  },
  {
   "cell_type": "code",
   "execution_count": 31,
   "id": "7c78d5d8",
   "metadata": {},
   "outputs": [],
   "source": [
    "df1 = df[['State','User Designation','HQ','User','Password']]"
   ]
  },
  {
   "cell_type": "code",
   "execution_count": 32,
   "id": "f2618434",
   "metadata": {},
   "outputs": [
    {
     "data": {
      "text/html": [
       "<div>\n",
       "<style scoped>\n",
       "    .dataframe tbody tr th:only-of-type {\n",
       "        vertical-align: middle;\n",
       "    }\n",
       "\n",
       "    .dataframe tbody tr th {\n",
       "        vertical-align: top;\n",
       "    }\n",
       "\n",
       "    .dataframe thead th {\n",
       "        text-align: right;\n",
       "    }\n",
       "</style>\n",
       "<table border=\"1\" class=\"dataframe\">\n",
       "  <thead>\n",
       "    <tr style=\"text-align: right;\">\n",
       "      <th></th>\n",
       "      <th>State</th>\n",
       "      <th>User Designation</th>\n",
       "      <th>HQ</th>\n",
       "      <th>User</th>\n",
       "      <th>Password</th>\n",
       "    </tr>\n",
       "  </thead>\n",
       "  <tbody>\n",
       "    <tr>\n",
       "      <th>9</th>\n",
       "      <td>Gujarat</td>\n",
       "      <td>ASM</td>\n",
       "      <td>Bhuj</td>\n",
       "      <td>Sahil Mansuri|PGGJ1005</td>\n",
       "      <td>5896</td>\n",
       "    </tr>\n",
       "    <tr>\n",
       "      <th>19</th>\n",
       "      <td>Gujarat</td>\n",
       "      <td>ASM</td>\n",
       "      <td>Rajkot</td>\n",
       "      <td>Hitesh Thakkar|PGGJ1004</td>\n",
       "      <td>9493</td>\n",
       "    </tr>\n",
       "    <tr>\n",
       "      <th>24</th>\n",
       "      <td>Gujarat</td>\n",
       "      <td>ASM</td>\n",
       "      <td>Rajkot</td>\n",
       "      <td>Vinesh Trivedi|PGGJ1006</td>\n",
       "      <td>7460</td>\n",
       "    </tr>\n",
       "    <tr>\n",
       "      <th>33</th>\n",
       "      <td>Gujarat</td>\n",
       "      <td>ASM</td>\n",
       "      <td>Vadodara</td>\n",
       "      <td>Girwat Sing Raj|PGGJ1003</td>\n",
       "      <td>4330</td>\n",
       "    </tr>\n",
       "    <tr>\n",
       "      <th>271</th>\n",
       "      <td>Gujarat</td>\n",
       "      <td>RSM</td>\n",
       "      <td>Surat</td>\n",
       "      <td>Shashi Bhushan Mishra|PGGJ1045</td>\n",
       "      <td>1123</td>\n",
       "    </tr>\n",
       "    <tr>\n",
       "      <th>...</th>\n",
       "      <td>...</td>\n",
       "      <td>...</td>\n",
       "      <td>...</td>\n",
       "      <td>...</td>\n",
       "      <td>...</td>\n",
       "    </tr>\n",
       "    <tr>\n",
       "      <th>238</th>\n",
       "      <td>Uttarakhand</td>\n",
       "      <td>SR</td>\n",
       "      <td>Kotdwar</td>\n",
       "      <td>Rakesh Singh|PGUK1013</td>\n",
       "      <td>3128</td>\n",
       "    </tr>\n",
       "    <tr>\n",
       "      <th>239</th>\n",
       "      <td>Uttarakhand</td>\n",
       "      <td>SR</td>\n",
       "      <td>Pithoragarh</td>\n",
       "      <td>Rahul Bhatt|PGUK1002</td>\n",
       "      <td>9523</td>\n",
       "    </tr>\n",
       "    <tr>\n",
       "      <th>281</th>\n",
       "      <td>Uttarakhand</td>\n",
       "      <td>SR</td>\n",
       "      <td>Rishikesh</td>\n",
       "      <td>Deepak|PGUK1027</td>\n",
       "      <td>2968</td>\n",
       "    </tr>\n",
       "    <tr>\n",
       "      <th>263</th>\n",
       "      <td>Uttarakhand</td>\n",
       "      <td>SR</td>\n",
       "      <td>Rishikesh</td>\n",
       "      <td>Ganesh|PGUK1024</td>\n",
       "      <td>7698</td>\n",
       "    </tr>\n",
       "    <tr>\n",
       "      <th>264</th>\n",
       "      <td>Uttarakhand</td>\n",
       "      <td>SR</td>\n",
       "      <td>Roorkee</td>\n",
       "      <td>Krish|PGUK1025</td>\n",
       "      <td>4082</td>\n",
       "    </tr>\n",
       "  </tbody>\n",
       "</table>\n",
       "<p>294 rows × 5 columns</p>\n",
       "</div>"
      ],
      "text/plain": [
       "           State User Designation           HQ  \\\n",
       "9        Gujarat              ASM         Bhuj   \n",
       "19       Gujarat              ASM       Rajkot   \n",
       "24       Gujarat              ASM       Rajkot   \n",
       "33       Gujarat              ASM     Vadodara   \n",
       "271      Gujarat              RSM        Surat   \n",
       "..           ...              ...          ...   \n",
       "238  Uttarakhand               SR      Kotdwar   \n",
       "239  Uttarakhand               SR  Pithoragarh   \n",
       "281  Uttarakhand               SR    Rishikesh   \n",
       "263  Uttarakhand               SR    Rishikesh   \n",
       "264  Uttarakhand               SR      Roorkee   \n",
       "\n",
       "                               User  Password  \n",
       "9            Sahil Mansuri|PGGJ1005      5896  \n",
       "19          Hitesh Thakkar|PGGJ1004      9493  \n",
       "24          Vinesh Trivedi|PGGJ1006      7460  \n",
       "33         Girwat Sing Raj|PGGJ1003      4330  \n",
       "271  Shashi Bhushan Mishra|PGGJ1045      1123  \n",
       "..                              ...       ...  \n",
       "238           Rakesh Singh|PGUK1013      3128  \n",
       "239            Rahul Bhatt|PGUK1002      9523  \n",
       "281                 Deepak|PGUK1027      2968  \n",
       "263                 Ganesh|PGUK1024      7698  \n",
       "264                  Krish|PGUK1025      4082  \n",
       "\n",
       "[294 rows x 5 columns]"
      ]
     },
     "execution_count": 32,
     "metadata": {},
     "output_type": "execute_result"
    }
   ],
   "source": [
    "df1"
   ]
  },
  {
   "cell_type": "code",
   "execution_count": 33,
   "id": "98a7c691",
   "metadata": {},
   "outputs": [],
   "source": [
    "df11 = df1.sample(2)"
   ]
  },
  {
   "cell_type": "code",
   "execution_count": 34,
   "id": "bbbb8d6d",
   "metadata": {},
   "outputs": [
    {
     "data": {
      "text/plain": [
       "Index(['State', 'User Designation', 'HQ', 'User', 'Password'], dtype='object')"
      ]
     },
     "execution_count": 34,
     "metadata": {},
     "output_type": "execute_result"
    }
   ],
   "source": [
    "df1.columns"
   ]
  },
  {
   "cell_type": "code",
   "execution_count": 35,
   "id": "5247c0e5",
   "metadata": {},
   "outputs": [],
   "source": [
    "# Create nested dictionary with password at DB level\n",
    "nested = {}\n",
    "\n",
    "for _, row in df1.iterrows():\n",
    "    state = row['State']\n",
    "    ss = row['User Designation']\n",
    "    db = row['HQ']\n",
    "    ws = row['User'] # USER\n",
    "    pwd = row['Password']\n",
    "\n",
    "    state_dict = nested.setdefault(state, {})\n",
    "    ss_dict = state_dict.setdefault(ss, {})\n",
    "    hq_dict = ss_dict.setdefault(db, {})\n",
    "    db_dict = hq_dict.setdefault(ws, {\"password\": pwd, \"user\": []})\n",
    "\n",
    "    db_dict[\"user\"].append(ws)\n",
    "\n",
    "# Save\n",
    "with open(\"data/dropdown.json\", \"w\") as f:\n",
    "    json.dump(nested, f, indent=4)"
   ]
  },
  {
   "cell_type": "code",
   "execution_count": null,
   "id": "08e6277f",
   "metadata": {},
   "outputs": [],
   "source": []
  }
 ],
 "metadata": {
  "kernelspec": {
   "display_name": "Python 3",
   "language": "python",
   "name": "python3"
  },
  "language_info": {
   "codemirror_mode": {
    "name": "ipython",
    "version": 3
   },
   "file_extension": ".py",
   "mimetype": "text/x-python",
   "name": "python",
   "nbconvert_exporter": "python",
   "pygments_lexer": "ipython3",
   "version": "3.13.3"
  }
 },
 "nbformat": 4,
 "nbformat_minor": 5
}
